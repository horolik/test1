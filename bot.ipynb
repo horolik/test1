{
 "cells": [
  {
   "cell_type": "code",
   "execution_count": 5,
   "id": "52045f9f",
   "metadata": {},
   "outputs": [
    {
     "name": "stdout",
     "output_type": "stream",
     "text": [
      "Requirement already satisfied: python-telegram-bot in c:\\users\\horol\\appdata\\local\\programs\\python\\python311\\lib\\site-packages (22.1)\n",
      "Requirement already satisfied: openpyxl in c:\\users\\horol\\appdata\\local\\programs\\python\\python311\\lib\\site-packages (3.1.5)\n",
      "Requirement already satisfied: pandas in c:\\users\\horol\\appdata\\local\\programs\\python\\python311\\lib\\site-packages (2.2.3)\n",
      "Requirement already satisfied: httpx~=0.27 in c:\\users\\horol\\appdata\\local\\programs\\python\\python311\\lib\\site-packages (from python-telegram-bot) (0.28.1)\n",
      "Requirement already satisfied: et-xmlfile in c:\\users\\horol\\appdata\\local\\programs\\python\\python311\\lib\\site-packages (from openpyxl) (2.0.0)\n",
      "Requirement already satisfied: numpy>=1.23.2 in c:\\users\\horol\\appdata\\local\\programs\\python\\python311\\lib\\site-packages (from pandas) (2.2.5)\n",
      "Requirement already satisfied: python-dateutil>=2.8.2 in c:\\users\\horol\\appdata\\roaming\\python\\python311\\site-packages (from pandas) (2.9.0.post0)\n",
      "Requirement already satisfied: pytz>=2020.1 in c:\\users\\horol\\appdata\\local\\programs\\python\\python311\\lib\\site-packages (from pandas) (2025.2)\n",
      "Requirement already satisfied: tzdata>=2022.7 in c:\\users\\horol\\appdata\\local\\programs\\python\\python311\\lib\\site-packages (from pandas) (2025.2)\n",
      "Requirement already satisfied: anyio in c:\\users\\horol\\appdata\\local\\programs\\python\\python311\\lib\\site-packages (from httpx~=0.27->python-telegram-bot) (4.9.0)\n",
      "Requirement already satisfied: certifi in c:\\users\\horol\\appdata\\local\\programs\\python\\python311\\lib\\site-packages (from httpx~=0.27->python-telegram-bot) (2025.4.26)\n",
      "Requirement already satisfied: httpcore==1.* in c:\\users\\horol\\appdata\\local\\programs\\python\\python311\\lib\\site-packages (from httpx~=0.27->python-telegram-bot) (1.0.9)\n",
      "Requirement already satisfied: idna in c:\\users\\horol\\appdata\\local\\programs\\python\\python311\\lib\\site-packages (from httpx~=0.27->python-telegram-bot) (3.10)\n",
      "Requirement already satisfied: h11>=0.16 in c:\\users\\horol\\appdata\\local\\programs\\python\\python311\\lib\\site-packages (from httpcore==1.*->httpx~=0.27->python-telegram-bot) (0.16.0)\n",
      "Requirement already satisfied: six>=1.5 in c:\\users\\horol\\appdata\\roaming\\python\\python311\\site-packages (from python-dateutil>=2.8.2->pandas) (1.17.0)\n",
      "Requirement already satisfied: sniffio>=1.1 in c:\\users\\horol\\appdata\\local\\programs\\python\\python311\\lib\\site-packages (from anyio->httpx~=0.27->python-telegram-bot) (1.3.1)\n",
      "Requirement already satisfied: typing_extensions>=4.5 in c:\\users\\horol\\appdata\\roaming\\python\\python311\\site-packages (from anyio->httpx~=0.27->python-telegram-bot) (4.13.2)\n",
      "Note: you may need to restart the kernel to use updated packages.\n"
     ]
    },
    {
     "name": "stderr",
     "output_type": "stream",
     "text": [
      "\n",
      "[notice] A new release of pip is available: 24.0 -> 25.1.1\n",
      "[notice] To update, run: python.exe -m pip install --upgrade pip\n"
     ]
    }
   ],
   "source": [
    "pip install python-telegram-bot openpyxl pandas"
   ]
  },
  {
   "cell_type": "code",
   "execution_count": 3,
   "id": "9171e997",
   "metadata": {},
   "outputs": [
    {
     "name": "stdout",
     "output_type": "stream",
     "text": [
      "Collecting PyTelegramBotAPI\n",
      "  Downloading pytelegrambotapi-4.27.0-py3-none-any.whl.metadata (48 kB)\n",
      "     ---------------------------------------- 0.0/48.3 kB ? eta -:--:--\n",
      "     ---------------------------------------- 48.3/48.3 kB 1.2 MB/s eta 0:00:00\n",
      "Requirement already satisfied: openpyxl in c:\\users\\horol\\appdata\\local\\programs\\python\\python311\\lib\\site-packages (3.1.5)\n",
      "Requirement already satisfied: pandas in c:\\users\\horol\\appdata\\local\\programs\\python\\python311\\lib\\site-packages (2.2.3)\n",
      "Collecting requests (from PyTelegramBotAPI)\n",
      "  Downloading requests-2.32.3-py3-none-any.whl.metadata (4.6 kB)\n",
      "Requirement already satisfied: et-xmlfile in c:\\users\\horol\\appdata\\local\\programs\\python\\python311\\lib\\site-packages (from openpyxl) (2.0.0)\n",
      "Requirement already satisfied: numpy>=1.23.2 in c:\\users\\horol\\appdata\\local\\programs\\python\\python311\\lib\\site-packages (from pandas) (2.2.5)\n",
      "Requirement already satisfied: python-dateutil>=2.8.2 in c:\\users\\horol\\appdata\\roaming\\python\\python311\\site-packages (from pandas) (2.9.0.post0)\n",
      "Requirement already satisfied: pytz>=2020.1 in c:\\users\\horol\\appdata\\local\\programs\\python\\python311\\lib\\site-packages (from pandas) (2025.2)\n",
      "Requirement already satisfied: tzdata>=2022.7 in c:\\users\\horol\\appdata\\local\\programs\\python\\python311\\lib\\site-packages (from pandas) (2025.2)\n",
      "Requirement already satisfied: six>=1.5 in c:\\users\\horol\\appdata\\roaming\\python\\python311\\site-packages (from python-dateutil>=2.8.2->pandas) (1.17.0)\n",
      "Collecting charset-normalizer<4,>=2 (from requests->PyTelegramBotAPI)\n",
      "  Downloading charset_normalizer-3.4.2-cp311-cp311-win_amd64.whl.metadata (36 kB)\n",
      "Requirement already satisfied: idna<4,>=2.5 in c:\\users\\horol\\appdata\\local\\programs\\python\\python311\\lib\\site-packages (from requests->PyTelegramBotAPI) (3.10)\n",
      "Collecting urllib3<3,>=1.21.1 (from requests->PyTelegramBotAPI)\n",
      "  Downloading urllib3-2.4.0-py3-none-any.whl.metadata (6.5 kB)\n",
      "Requirement already satisfied: certifi>=2017.4.17 in c:\\users\\horol\\appdata\\local\\programs\\python\\python311\\lib\\site-packages (from requests->PyTelegramBotAPI) (2025.4.26)\n",
      "Downloading pytelegrambotapi-4.27.0-py3-none-any.whl (287 kB)\n",
      "   ---------------------------------------- 0.0/287.4 kB ? eta -:--:--\n",
      "   ---------------------------------------  286.7/287.4 kB 5.9 MB/s eta 0:00:01\n",
      "   ---------------------------------------- 287.4/287.4 kB 4.4 MB/s eta 0:00:00\n",
      "Downloading requests-2.32.3-py3-none-any.whl (64 kB)\n",
      "   ---------------------------------------- 0.0/64.9 kB ? eta -:--:--\n",
      "   ---------------------------------------- 64.9/64.9 kB ? eta 0:00:00\n",
      "Downloading charset_normalizer-3.4.2-cp311-cp311-win_amd64.whl (105 kB)\n",
      "   ---------------------------------------- 0.0/105.4 kB ? eta -:--:--\n",
      "   ---------------------------------------- 105.4/105.4 kB 5.9 MB/s eta 0:00:00\n",
      "Downloading urllib3-2.4.0-py3-none-any.whl (128 kB)\n",
      "   ---------------------------------------- 0.0/128.7 kB ? eta -:--:--\n",
      "   ---------------------------------------- 128.7/128.7 kB 3.7 MB/s eta 0:00:00\n",
      "Installing collected packages: urllib3, charset-normalizer, requests, PyTelegramBotAPI\n",
      "Successfully installed PyTelegramBotAPI-4.27.0 charset-normalizer-3.4.2 requests-2.32.3 urllib3-2.4.0\n",
      "Note: you may need to restart the kernel to use updated packages.\n"
     ]
    },
    {
     "name": "stderr",
     "output_type": "stream",
     "text": [
      "\n",
      "[notice] A new release of pip is available: 24.0 -> 25.1.1\n",
      "[notice] To update, run: python.exe -m pip install --upgrade pip\n"
     ]
    }
   ],
   "source": [
    "pip install PyTelegramBotAPI openpyxl pandas"
   ]
  },
  {
   "cell_type": "code",
   "execution_count": 9,
   "id": "55ace499",
   "metadata": {},
   "outputs": [],
   "source": [
    "from telegram import Update, InlineKeyboardButton, InlineKeyboardMarkup\n",
    "from telegram.ext import Application, CommandHandler, CallbackQueryHandler, ContextTypes\n",
    "import pandas as pd\n",
    "import os\n",
    "\n",
    "# Загружаем Excel\n",
    "df = pd.read_excel('products.xlsx')\n",
    "\n",
    "# Получаем уникальные категории\n",
    "categories = df['Категория'].unique()\n",
    "\n",
    "# Приветствие\n",
    "async def start(update: Update, context: ContextTypes.DEFAULT_TYPE):\n",
    "    keyboard = [\n",
    "        [InlineKeyboardButton(\"Купить\", callback_data='buy')],\n",
    "        [InlineKeyboardButton(\"Оставить отзыв\", callback_data='review')]\n",
    "    ]\n",
    "    reply_markup = InlineKeyboardMarkup(keyboard)\n",
    "    await update.message.reply_text(\"Добро пожаловать в наш магазин! Что вы хотите сделать?\", reply_markup=reply_markup)\n",
    "\n",
    "# Обработка нажатий\n",
    "async def button(update: Update, context: ContextTypes.DEFAULT_TYPE):\n",
    "    query = update.callback_query\n",
    "    await query.answer()\n",
    "\n",
    "    if query.data == 'buy':\n",
    "        keyboard = [[InlineKeyboardButton(cat, callback_data=f\"cat_{cat}\")] for cat in categories]\n",
    "        reply_markup = InlineKeyboardMarkup(keyboard)\n",
    "        await query.edit_message_text(\"Выберите категорию:\", reply_markup=reply_markup)\n",
    "    \n",
    "    elif query.data.startswith('cat_'):\n",
    "        category = query.data.split('_', 1)[1]\n",
    "        products = df[df['Категория'] == category]\n",
    "        for _, row in products.iterrows():\n",
    "            text = f\"{row['Название']}\\nЦена: {row['Цена']} руб.\"\n",
    "            photo_path = os.path.join('photos', row['Фото'])  # Путь к фото\n",
    "            if os.path.exists(photo_path):\n",
    "                with open(photo_path, 'rb') as photo:\n",
    "                    await query.message.reply_photo(photo=photo, caption=text)\n",
    "            else:\n",
    "                await query.message.reply_text(text)\n",
    "\n",
    "    elif query.data == 'review':\n",
    "        await query.edit_message_text(\"Вы можете оставить отзыв, написав нам сюда.\")\n",
    "\n",
    "# Главная функция\n",
    "def main():\n",
    "    TOKEN = \"7713900787:AAHuEPpjV4Kgk5hPEA_dMTdQFOo9Z2yL7CM\"  # <-- замените на ваш токен\n",
    "    application = Application.builder().token(TOKEN).build()\n",
    "\n",
    "    application.add_handler(CommandHandler(\"start\", start))\n",
    "    application.add_handler(CallbackQueryHandler(button))\n",
    "\n",
    "    application.run_polling()\n",
    "    if __name__ == '__main__':\n",
    "        main()"
   ]
  },
  {
   "cell_type": "code",
   "execution_count": 10,
   "id": "177ee953",
   "metadata": {},
   "outputs": [
    {
     "data": {
      "text/plain": [
       "<Queue at 0x126ecdf2010 maxsize=0 _getters[1]>"
      ]
     },
     "execution_count": 10,
     "metadata": {},
     "output_type": "execute_result"
    }
   ],
   "source": [
    "from telegram.ext import Application\n",
    "\n",
    "TOKEN = \"7713900787:AAHuEPpjV4Kgk5hPEA_dMTdQFOo9Z2yL7CM\"\n",
    "\n",
    "application = Application.builder().token(TOKEN).build()\n",
    "application.add_handler(CommandHandler(\"start\", start))\n",
    "application.add_handler(CallbackQueryHandler(button))\n",
    "\n",
    "await application.initialize()\n",
    "await application.start()\n",
    "await application.updater.start_polling()\n"
   ]
  }
 ],
 "metadata": {
  "kernelspec": {
   "display_name": "Python 3",
   "language": "python",
   "name": "python3"
  },
  "language_info": {
   "codemirror_mode": {
    "name": "ipython",
    "version": 3
   },
   "file_extension": ".py",
   "mimetype": "text/x-python",
   "name": "python",
   "nbconvert_exporter": "python",
   "pygments_lexer": "ipython3",
   "version": "3.11.9"
  }
 },
 "nbformat": 4,
 "nbformat_minor": 5
}
